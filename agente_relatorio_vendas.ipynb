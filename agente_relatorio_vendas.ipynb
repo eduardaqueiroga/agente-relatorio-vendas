{
  "nbformat": 4,
  "nbformat_minor": 0,
  "metadata": {
    "colab": {
      "provenance": []
    },
    "kernelspec": {
      "name": "python3",
      "display_name": "Python 3"
    },
    "language_info": {
      "name": "python"
    }
  },
  "cells": [
    {
      "cell_type": "code",
      "source": [
        "!pip install -q groq pdfplumber fpdf pandas openpyxl\n",
        "\n",
        "import os\n",
        "import pandas as pd\n",
        "from groq import Groq\n",
        "from fpdf import FPDF\n",
        "from getpass import getpass\n",
        "import pdfplumber\n",
        "\n",
        "# === CONFIGURAÇÕES ===\n",
        "ARQUIVO = \"RetailInsights.xlsx\"\n",
        "SAIDA = \"relatorio_vendas.pdf\"\n",
        "\n",
        "# === SOLICITAR CHAVE DE API ===\n",
        "api_key = getpass(\"🔑 Digite sua chave da API da Groq (os caracteres não serão exibidos): \")\n",
        "\n",
        "# === LER DADOS COM RESUMO ===\n",
        "def ler_dados(arquivo):\n",
        "    if arquivo.endswith(\".xlsx\"):\n",
        "        df = pd.read_excel(arquivo)\n",
        "        resumo = df.describe(include='all').to_string()\n",
        "        amostra = df.head(10).to_string(index=False)\n",
        "        return f\"Resumo estatístico dos dados:\\n{resumo}\\n\\nAmostra (10 primeiras linhas):\\n{amostra}\"\n",
        "    elif arquivo.endswith(\".pdf\"):\n",
        "        texto = \"\"\n",
        "        with pdfplumber.open(arquivo) as pdf:\n",
        "            for pagina in pdf.pages[:2]:\n",
        "                texto += pagina.extract_text() + \"\\n\"\n",
        "        return texto\n",
        "    else:\n",
        "        raise ValueError(\"Formato não suportado: use Excel ou PDF\")\n",
        "\n",
        "dados = ler_dados(ARQUIVO)\n",
        "\n",
        "# === CONECTAR À GROQ ===\n",
        "client = Groq(api_key=api_key)\n",
        "\n",
        "prompt = f\"\"\"\n",
        "Você é um analista de vendas. Gere um relatório executivo a partir do resumo abaixo.\n",
        "Inclua:\n",
        "- Resumo geral de vendas\n",
        "- Produtos/serviços com melhor desempenho\n",
        "- Análise de tendências\n",
        "- Recomendações estratégicas\n",
        "\n",
        "Resumo dos dados:\n",
        "{dados}\n",
        "\"\"\"\n",
        "\n",
        "response = client.chat.completions.create(\n",
        "    model=\"llama-3.1-8b-instant\",  # ✅ modelo atualizado\n",
        "    messages=[{\"role\": \"user\", \"content\": prompt}],\n",
        ")\n",
        "\n",
        "relatorio_texto = response.choices[0].message.content\n",
        "\n",
        "# === GERAR PDF ===\n",
        "pdf = FPDF()\n",
        "pdf.add_page()\n",
        "pdf.set_font(\"Arial\", size=12)\n",
        "for linha in relatorio_texto.split(\"\\n\"):\n",
        "    pdf.multi_cell(0, 10, linha)\n",
        "pdf.output(SAIDA)\n",
        "\n",
        "print(f\"\\n✅ Relatório gerado com sucesso: {SAIDA}\")\n"
      ],
      "metadata": {
        "colab": {
          "base_uri": "https://localhost:8080/"
        },
        "id": "1WLR1sP3nw5t",
        "outputId": "73df1975-88f2-4a90-c7a7-d5f4a1f8feb5"
      },
      "execution_count": 9,
      "outputs": [
        {
          "output_type": "stream",
          "name": "stdout",
          "text": [
            "🔑 Digite sua chave da API da Groq (os caracteres não serão exibidos): ··········\n",
            "\n",
            "✅ Relatório gerado com sucesso: relatorio_vendas.pdf\n"
          ]
        }
      ]
    }
  ]
}